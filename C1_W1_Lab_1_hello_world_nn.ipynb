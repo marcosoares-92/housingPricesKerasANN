{
    "metadata": {
        "kernelspec": {
            "name": "python3",
            "display_name": "Python 3 (ipykernel)",
            "language": "python"
        },
        "language_info": {
            "name": "python",
            "version": "3.8.10",
            "mimetype": "text/x-python",
            "codemirror_mode": {
                "name": "ipython",
                "version": 3
            },
            "pygments_lexer": "ipython3",
            "nbconvert_exporter": "python",
            "file_extension": ".py"
        },
        "colab": {
            "collapsed_sections": [],
            "name": "C1_W1_Lab_1_hello_world_nn.ipynb",
            "private_outputs": true,
            "provenance": [
                {
                    "file_id": "https://github.com/https-deeplearning-ai/tensorflow-1-public/blob/main/C1/W1/ungraded_lab/C1_W1_Lab_1_hello_world_nn.ipynb",
                    "timestamp": 1637670538744
                }
            ],
            "toc_visible": true
        },
        "extensions": {
            "azuredatastudio": {
                "version": 1,
                "views": []
            }
        }
    },
    "nbformat_minor": 2,
    "nbformat": 4,
    "cells": [
        {
            "cell_type": "markdown",
            "source": [
                "<a href=\"https://colab.research.google.com/github/https-deeplearning-ai/tensorflow-1-public/blob/master/C1/W1/ungraded_lab/C1_W1_Lab_1_hello_world_nn.ipynb\" target=\"_parent\"><img src=\"https://colab.research.google.com/assets/colab-badge.svg\" alt=\"Open In Colab\"/></a>"
            ],
            "metadata": {
                "extensions": {
                    "azuredatastudio": {
                        "views": []
                    }
                },
                "azdata_cell_guid": "962c4828-d35a-428c-a455-41f0fb8a6c41"
            }
        },
        {
            "cell_type": "markdown",
            "source": [
                "# Ungraded Lab: The Hello World of Deep Learning with Neural Networks"
            ],
            "metadata": {
                "id": "ZIAkIlfmCe1B",
                "extensions": {
                    "azuredatastudio": {
                        "views": []
                    }
                },
                "azdata_cell_guid": "17921364-9fa2-430d-93e2-3c8df07e2a14"
            }
        },
        {
            "cell_type": "markdown",
            "source": [
                "Like every first app, you should start with something super simple that shows the overall scaffolding for how your code works. In the case of creating neural networks, one simple case is where it learns the relationship between two numbers. So, for example, if you were writing code for a function like this, you already know the 'rules': \n",
                "\n",
                "\n",
                "```\n",
                "def hw_function(x):\n",
                "    y = (2 * x) - 1\n",
                "    return y\n",
                "```\n",
                "\n",
                "So how would you train a neural network to do the equivalent task? By using data! By feeding it with a set of x's and y's, it should be able to figure out the relationship between them. \n",
                "\n",
                "This is obviously a very different paradigm from what you might be used to. So let's step through it piece by piece.\n"
            ],
            "metadata": {
                "id": "fA93WUy1zzWf",
                "extensions": {
                    "azuredatastudio": {
                        "views": []
                    }
                },
                "azdata_cell_guid": "1305ba8e-5868-481f-8361-f4140162487b"
            }
        },
        {
            "cell_type": "markdown",
            "source": [
                "## Imports\n",
                "\n",
                "Let's start with the imports. Here, you are importing [TensorFlow](https://www.tensorflow.org/) and calling it `tf` for convention and ease of use.\n",
                "\n",
                "You then import a library called [`numpy`](https://numpy.org) which helps to represent data as arrays easily and to optimize numerical operations.\n",
                "\n",
                "The framework you will use to build a neural network as a sequence of layers is called [`keras`](https://keras.io/) so you will import that too.\n"
            ],
            "metadata": {
                "id": "DzbtdRcZDO9B",
                "extensions": {
                    "azuredatastudio": {
                        "views": []
                    }
                },
                "azdata_cell_guid": "b47535d2-b3af-415d-87aa-7f9473dba363"
            }
        },
        {
            "cell_type": "code",
            "source": [
                "import tensorflow as tf\n",
                "import numpy as np\n",
                "from tensorflow import keras\n",
                "\n",
                "print(tf.__version__)"
            ],
            "metadata": {
                "id": "X9uIpOS2zx7k",
                "extensions": {
                    "azuredatastudio": {
                        "views": []
                    }
                },
                "azdata_cell_guid": "c98169b2-4be6-4869-939f-d1f493346f68"
            },
            "outputs": [],
            "execution_count": null
        },
        {
            "cell_type": "markdown",
            "source": [
                "## Define and Compile the Neural Network\n",
                "\n",
                "Next, you will create the simplest possible neural network. It has 1 layer with 1 neuron, and the input shape to it is just 1 value. You will build this model using Keras' [Sequential](https://keras.io/api/models/sequential/) class which allows you to define the network as a sequence of [layers](https://keras.io/api/layers/). You can use a single [Dense](https://keras.io/api/layers/core_layers/dense/) layer to build this simple network as shown below."
            ],
            "metadata": {
                "id": "wwJGmDrQ0EoB",
                "extensions": {
                    "azuredatastudio": {
                        "views": []
                    }
                },
                "azdata_cell_guid": "f1c76b44-e652-440e-a264-de91cf832d37"
            }
        },
        {
            "cell_type": "code",
            "source": [
                "# Build a simple Sequential model\n",
                "model = tf.keras.Sequential([keras.layers.Dense(units=1, input_shape=[1])])"
            ],
            "metadata": {
                "id": "kQFAr_xo0M4T",
                "extensions": {
                    "azuredatastudio": {
                        "views": []
                    }
                },
                "azdata_cell_guid": "005b08f3-cec4-443a-80fd-6044e6139108"
            },
            "outputs": [],
            "execution_count": null
        },
        {
            "cell_type": "markdown",
            "source": [
                "The parameter units defines the amount of neurons on the dense layer. In this case:\n",
                "```\n",
                "units = 1\n",
                "```\n",
                "\n",
                "Indicates that the neural network has only a single neuron."
            ],
            "metadata": {
                "azdata_cell_guid": "26b6d1d2-d240-4a22-bae3-719902a1eb5f"
            },
            "attachments": {}
        },
        {
            "cell_type": "markdown",
            "source": [
                "Now, you will compile the neural network. When you do so, you have to specify 2 functions: a [loss](https://keras.io/api/losses/) and an [optimizer](https://keras.io/api/optimizers/).\n",
                "\n",
                "If you've seen lots of math for machine learning, here's where it's usually used. But in this case, it's nicely encapsulated in functions and classes for you. But what happens here? Let's explain...\n",
                "\n",
                "You know that in the function declared at the start of this notebook, the relationship between the numbers is `y=2x-1`. When the computer is trying to 'learn' that, it makes a guess... maybe `y=10x+10`. The `loss` function measures the guessed answers against the known correct answers and measures how well or how badly it did.\n",
                "\n",
                "It then uses the `optimizer` function to make another guess. Based on how the loss function went, it will try to minimize the loss. At that point maybe it will come up with something like `y=5x+5`, which, while still pretty bad, is closer to the correct result (i.e. the loss is lower).\n",
                "\n",
                "It will repeat this for the number of _epochs_ which you will see shortly. But first, here's how you will tell it to use [mean squared error](https://keras.io/api/losses/regression_losses/#meansquarederror-function) for the loss and [stochastic gradient descent](https://keras.io/api/optimizers/sgd/) for the optimizer. You don't need to understand the math for these yet, but you can see that they work!\n",
                "\n",
                "Over time, you will learn the different and appropriate loss and optimizer functions for different scenarios. \n"
            ],
            "metadata": {
                "id": "KhjZjZ-c0Ok9",
                "extensions": {
                    "azuredatastudio": {
                        "views": []
                    }
                },
                "azdata_cell_guid": "d9d98ba5-0bac-4bad-a769-88e8afc400f8"
            }
        },
        {
            "cell_type": "code",
            "source": [
                "# Compile the model\n",
                "model.compile(optimizer='sgd', loss='mean_squared_error')"
            ],
            "metadata": {
                "id": "m8YQN1H41L-Y",
                "extensions": {
                    "azuredatastudio": {
                        "views": []
                    }
                },
                "azdata_cell_guid": "e6adbb42-1d28-47b7-8f28-c8f1655ed7f6"
            },
            "outputs": [],
            "execution_count": null
        },
        {
            "cell_type": "markdown",
            "source": [
                "## Providing the Data\n",
                "\n",
                "Next up, you will feed in some data. In this case, you are taking 6 X's and 6 Y's. You can see that the relationship between these is `y=2x-1`, so where `x = -1`, `y=-3` etc. \n",
                "\n",
                "The de facto standard way of declaring model inputs and outputs is to use `numpy`, a Python library that provides lots of array type data structures. You can specify these values by building numpy arrays with [`np.array()`](https://numpy.org/doc/stable/reference/generated/numpy.array.html)."
            ],
            "metadata": {
                "id": "5QyOUhFw1OUX",
                "extensions": {
                    "azuredatastudio": {
                        "views": []
                    }
                },
                "azdata_cell_guid": "412b1da6-f5bc-4656-adbc-26e02f068534"
            }
        },
        {
            "cell_type": "code",
            "source": [
                "# Declare model inputs and outputs for training\n",
                "xs = np.array([-1.0,  0.0, 1.0, 2.0, 3.0, 4.0], dtype=float)\n",
                "ys = np.array([-3.0, -1.0, 1.0, 3.0, 5.0, 7.0], dtype=float)"
            ],
            "metadata": {
                "id": "4Dxk4q-jzEy4",
                "extensions": {
                    "azuredatastudio": {
                        "views": []
                    }
                },
                "azdata_cell_guid": "ff9b0c85-76d5-4ae8-b305-abe0eeaff7b5"
            },
            "outputs": [],
            "execution_count": null
        },
        {
            "cell_type": "markdown",
            "source": [
                "# Training the Neural Network\n",
                "\n",
                "The process of training the neural network, where it 'learns' the relationship between the x's and y's is in the [`model.fit()`](https://keras.io/api/models/model_training_apis/#fit-method)  call. This is where it will go through the loop we spoke about above: making a guess, measuring how good or bad it is (aka the loss), using the opimizer to make another guess etc. It will do it for the number of `epochs` you specify. When you run this code, you'll see the loss on the right hand side."
            ],
            "metadata": {
                "id": "n_YcWRElnM_b",
                "extensions": {
                    "azuredatastudio": {
                        "views": []
                    }
                },
                "azdata_cell_guid": "fee80457-111c-4c41-87b1-d80d6af347bd"
            }
        },
        {
            "cell_type": "code",
            "source": [
                "# Train the model\n",
                "model.fit(xs, ys, epochs=500)"
            ],
            "metadata": {
                "id": "lpRrl7WK10Pq",
                "extensions": {
                    "azuredatastudio": {
                        "views": []
                    }
                },
                "azdata_cell_guid": "0c260c79-1b62-4c5c-ab6d-d3045af40488"
            },
            "outputs": [],
            "execution_count": null
        },
        {
            "cell_type": "markdown",
            "source": [
                "**Each epoch is a training loop**, where the algorithm tries to fit the model."
            ],
            "metadata": {
                "azdata_cell_guid": "fc8ec85d-56dc-4c58-a905-1e6d50734ed1"
            },
            "attachments": {}
        },
        {
            "cell_type": "markdown",
            "source": [
                "Ok, now you have a model that has been trained to learn the relationship between `x` and `y`. You can use the [`model.predict()`](https://keras.io/api/models/model_training_apis/#predict-method) method to have it figure out the `y` for a previously unknown `x`. So, for example, if `x=10`, what do you think `y` will be? Take a guess before you run this code:"
            ],
            "metadata": {
                "id": "kaFIr71H2OZ-",
                "extensions": {
                    "azuredatastudio": {
                        "views": []
                    }
                },
                "azdata_cell_guid": "f90b8bd9-b9b8-44db-b878-7dee3fe1dfbe"
            }
        },
        {
            "cell_type": "code",
            "source": [
                "# Make a prediction\n",
                "print(model.predict([10.0]))"
            ],
            "metadata": {
                "id": "oxNzL4lS2Gui",
                "extensions": {
                    "azuredatastudio": {
                        "views": []
                    }
                },
                "azdata_cell_guid": "817370e9-0022-4ebe-92aa-21b1a75cc9c5"
            },
            "outputs": [],
            "execution_count": null
        },
        {
            "cell_type": "markdown",
            "source": [
                "You might have thought `19`, right? But it ended up being a little under. Why do you think that is? \n",
                "\n",
                "Remember that neural networks deal with probabilities. So given the data that we fed the model with, it calculated that there is a very high probability that the relationship between `x` and `y` is `y=2x-1`, but with only 6 data points we can't know for sure. As a result, the result for 10 is very close to 19, but not necessarily 19.\n",
                "\n",
                "As you work with neural networks, you'll see this pattern recurring. You will almost always deal with probabilities, not certainties, and will do a little bit of coding to figure out what the result is based on the probabilities, particularly when it comes to classification.\n"
            ],
            "metadata": {
                "id": "btF2CSFH2iEX",
                "extensions": {
                    "azuredatastudio": {
                        "views": []
                    }
                },
                "azdata_cell_guid": "e96025e6-021d-481e-8783-53c865c58039"
            }
        }
    ]
}